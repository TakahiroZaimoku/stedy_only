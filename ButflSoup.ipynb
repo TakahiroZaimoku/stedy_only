{
 "cells": [
  {
   "cell_type": "code",
   "execution_count": null,
   "id": "ca1bfd00-5f93-4d53-aadc-b8bf62d2fb04",
   "metadata": {},
   "outputs": [
    {
     "name": "stdout",
     "output_type": "stream",
     "text": [
      "Collecting selenium\n",
      "  Downloading selenium-4.1.5-py3-none-any.whl (979 kB)\n",
      "Requirement already satisfied: urllib3[secure,socks]~=1.26 in c:\\users\\zaimoku\\anaconda3\\lib\\site-packages (from selenium) (1.26.7)\n",
      "Collecting trio-websocket~=0.9\n",
      "  Downloading trio_websocket-0.9.2-py3-none-any.whl (16 kB)\n",
      "Collecting trio~=0.17\n",
      "  Downloading trio-0.20.0-py3-none-any.whl (359 kB)\n",
      "Requirement already satisfied: sniffio in c:\\users\\zaimoku\\anaconda3\\lib\\site-packages (from trio~=0.17->selenium) (1.2.0)\n",
      "Requirement already satisfied: async-generator>=1.9 in c:\\users\\zaimoku\\anaconda3\\lib\\site-packages (from trio~=0.17->selenium) (1.10)\n",
      "Requirement already satisfied: cffi>=1.14 in c:\\users\\zaimoku\\anaconda3\\lib\\site-packages (from trio~=0.17->selenium) (1.14.6)\n",
      "Requirement already satisfied: idna in c:\\users\\zaimoku\\anaconda3\\lib\\site-packages (from trio~=0.17->selenium) (3.2)\n",
      "Collecting outcome\n",
      "  Downloading outcome-1.1.0-py2.py3-none-any.whl (9.7 kB)\n",
      "Requirement already satisfied: attrs>=19.2.0 in c:\\users\\zaimoku\\anaconda3\\lib\\site-packages (from trio~=0.17->selenium) (21.2.0)\n",
      "Requirement already satisfied: sortedcontainers in c:\\users\\zaimoku\\anaconda3\\lib\\site-packages (from trio~=0.17->selenium) (2.4.0)\n",
      "Requirement already satisfied: pycparser in c:\\users\\zaimoku\\anaconda3\\lib\\site-packages (from cffi>=1.14->trio~=0.17->selenium) (2.20)\n",
      "Collecting wsproto>=0.14\n",
      "  Downloading wsproto-1.1.0-py3-none-any.whl (24 kB)\n",
      "Requirement already satisfied: pyOpenSSL>=0.14 in c:\\users\\zaimoku\\anaconda3\\lib\\site-packages (from urllib3[secure,socks]~=1.26->selenium) (21.0.0)\n",
      "Requirement already satisfied: cryptography>=1.3.4 in c:\\users\\zaimoku\\anaconda3\\lib\\site-packages (from urllib3[secure,socks]~=1.26->selenium) (3.4.8)\n",
      "Requirement already satisfied: certifi in c:\\users\\zaimoku\\anaconda3\\lib\\site-packages (from urllib3[secure,socks]~=1.26->selenium) (2021.10.8)\n",
      "Requirement already satisfied: PySocks!=1.5.7,<2.0,>=1.5.6 in c:\\users\\zaimoku\\anaconda3\\lib\\site-packages (from urllib3[secure,socks]~=1.26->selenium) (1.7.1)\n",
      "Requirement already satisfied: six>=1.5.2 in c:\\users\\zaimoku\\anaconda3\\lib\\site-packages (from pyOpenSSL>=0.14->urllib3[secure,socks]~=1.26->selenium) (1.16.0)\n",
      "Collecting h11<1,>=0.9.0\n",
      "  Downloading h11-0.13.0-py3-none-any.whl (58 kB)\n",
      "Installing collected packages: outcome, h11, wsproto, trio, trio-websocket, selenium\n",
      "Successfully installed h11-0.13.0 outcome-1.1.0 selenium-4.1.5 trio-0.20.0 trio-websocket-0.9.2 wsproto-1.1.0\n",
      "Note: you may need to restart the kernel to use updated packages.\n"
     ]
    }
   ],
   "source": [
    "pip install bs4\n",
    "pip install selenium"
   ]
  },
  {
   "cell_type": "code",
   "execution_count": 1,
   "id": "302db107-9a7c-4b5d-8b3b-e5f18bfa8dca",
   "metadata": {},
   "outputs": [
    {
     "name": "stdout",
     "output_type": "stream",
     "text": [
      "[]\n",
      "[]\n"
     ]
    }
   ],
   "source": [
    "from bs4 import BeautifulSoup\n",
    "import requests\n",
    "#設定 ユーザーエージェント\n",
    "ua = 'Mozilla/5.0 (Macintosh; Intel Mac OS X 10_13_5) AppleWebKit/537.36 (KHTML, like Gecko) Chrome/67.0.3396.99 Safari/537.36'\n",
    "#設定 ヘッダー\n",
    "headers = {'User-Agent': ua}\n",
    "#設定 URL(ソニー銀行)\n",
    "target_url = \"https://moneykit.net/visitor/sb_rate/\"\n",
    "#取得 response stetus(200)\n",
    "r = requests.get(target_url,headers=headers)\n",
    "#取得 ページ全文\n",
    "soup = BeautifulSoup(r.content, \"html.parser\")\n",
    "#取得 米ドルTTB\n",
    "#usd_ttb = soup.select(class_=\"sbrate-sellrate\") → []\n",
    "#usd_ttb = soup.find(class_=\"sbrate-sellrate\") → None\n",
    "#usd_ttb = soup.select(\"#tab01cont > div > table > tbody > tr:nth-child(1) > td:nth-child(2) > strong\") → []\n",
    "usd_ttb = soup.select(\"#tab01cont > div > table > tbody > tr:nth-of-type(1) > td:nth-of-type(2) > strong\")\n",
    "#取得 米ドルTTS\n",
    "usd_tts = soup.select('sbrate-buyrate')\n",
    "#表示 全文 ※確認用\n",
    "#print(soup)\n",
    "#表示 米ドルTTB\n",
    "print(usd_ttb)\n",
    "#表示 米ドルTTS\n",
    "print(usd_tts)"
   ]
  },
  {
   "cell_type": "code",
   "execution_count": 15,
   "id": "dfdc4927-33d6-46cf-bd02-24d9022c6ece",
   "metadata": {},
   "outputs": [
    {
     "name": "stdout",
     "output_type": "stream",
     "text": [
      "Requirement already satisfied: pyinstaller in c:\\users\\zaimoku\\anaconda3\\lib\\site-packages (5.1)\n",
      "Requirement already satisfied: altgraph in c:\\users\\zaimoku\\anaconda3\\lib\\site-packages (from pyinstaller) (0.17.2)\n",
      "Requirement already satisfied: pywin32-ctypes>=0.2.0 in c:\\users\\zaimoku\\anaconda3\\lib\\site-packages (from pyinstaller) (0.2.0)\n",
      "Requirement already satisfied: pyinstaller-hooks-contrib>=2021.4 in c:\\users\\zaimoku\\anaconda3\\lib\\site-packages (from pyinstaller) (2022.5)\n",
      "Requirement already satisfied: pefile>=2017.8.1 in c:\\users\\zaimoku\\anaconda3\\lib\\site-packages (from pyinstaller) (2021.9.3)\n",
      "Requirement already satisfied: setuptools in c:\\users\\zaimoku\\anaconda3\\lib\\site-packages (from pyinstaller) (58.0.4)\n",
      "Requirement already satisfied: future in c:\\users\\zaimoku\\anaconda3\\lib\\site-packages (from pefile>=2017.8.1->pyinstaller) (0.18.2)\n",
      "Note: you may need to restart the kernel to use updated packages.\n"
     ]
    }
   ],
   "source": [
    "pip install pyinstaller"
   ]
  },
  {
   "cell_type": "code",
   "execution_count": null,
   "id": "e6888770-94ae-42da-8c03-db7f05710c4c",
   "metadata": {},
   "outputs": [],
   "source": []
  }
 ],
 "metadata": {
  "kernelspec": {
   "display_name": "Python 3 (ipykernel)",
   "language": "python",
   "name": "python3"
  },
  "language_info": {
   "codemirror_mode": {
    "name": "ipython",
    "version": 3
   },
   "file_extension": ".py",
   "mimetype": "text/x-python",
   "name": "python",
   "nbconvert_exporter": "python",
   "pygments_lexer": "ipython3",
   "version": "3.9.7"
  }
 },
 "nbformat": 4,
 "nbformat_minor": 5
}
